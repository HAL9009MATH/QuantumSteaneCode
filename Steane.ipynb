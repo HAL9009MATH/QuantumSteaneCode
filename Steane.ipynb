{
 "cells": [
  {
   "cell_type": "markdown",
   "id": "d3796242",
   "metadata": {},
   "source": [
    "##  `Steane code - a Quantum Error-correcting code`  \n",
    "\n",
    "In this notebook we will construct a function that takes two imputs: $x\\in \\mathbb{F}^n_2$ and an error probability $p\\in(0,1)$ and outputs the logical state $\\ket{x_L}$ in Steane's code. \n",
    "We will then run it thuoght a Pauli Error Channel, with error rate $p$, measures syndromes, applies the recovery operation when needed, measure the data qubits and decodes the results.\n",
    "\n",
    "Recall that Steane's code is a 7 qubits code to encode 1 logical qubit, it can correct any single-qubit error $(X,Y,Z)$. It has distance 3 which means that it can detect up to two erros and correct one. It is insipired from the CCS $[7,4,3]$ Hamming code. It is constructed from two classical linear coodes, one for correcting bit-flip errors and one for correcting phase-flip errors.\n",
    "\n",
    "We will proceed as follows, first the Encoding steps:\n",
    "   - The logical qubit is encoded into **7 physical qubits** using combinations of codewords from the classical **[7,4,3] Hamming code**.\n",
    "   - This encoding spreads the information across multiple qubits, enabling protection against single-qubit errors.\n",
    "\n",
    "Next the Error correction:\n",
    "\n",
    "- **Syndrome measurement:** Separate syndromes are measured to detect **bit-flip (X)** and **phase-flip (Z)** errors.  \n",
    "- These measurements are performed using stabilizer operators derived from the classical code's **parity check matrix**.\n",
    "- **Error identification and correction:** The measured syndrome indicates the location and type of error, allowing it to be corrected by applying the appropriate **Pauli operator** (X, Y, or Z).\n",
    "\n",
    "For the construction we will follow https://errorcorrectionzoo.org/c/steane"
   ]
  },
  {
   "cell_type": "code",
   "execution_count": 10,
   "id": "0784b0eb",
   "metadata": {},
   "outputs": [
    {
     "name": "stdout",
     "output_type": "stream",
     "text": [
      "H matrix:\n",
      "[[0 0 0 1 1 1 1]\n",
      " [0 1 1 0 0 1 1]\n",
      " [1 0 1 0 1 0 1]]\n"
     ]
    }
   ],
   "source": [
    "import numpy as np\n",
    "from qiskit import QuantumCircuit, QuantumRegister, ClassicalRegister, AncillaRegister\n",
    "from qiskit.quantum_info import Statevector\n",
    "from qiskit_aer import AerSimulator\n",
    "from qiskit import transpile\n",
    "from qiskit.visualization import plot_histogram\n",
    "\n",
    "H = np.array([\n",
    "    [0, 0, 0, 1, 1, 1, 1],\n",
    "    [0, 1, 1, 0, 0, 1, 1],\n",
    "    [1, 0, 1, 0, 1, 0, 1]])\n",
    "\n",
    "print(\"H matrix:\")\n",
    "print(H)"
   ]
  },
  {
   "cell_type": "markdown",
   "id": "a0e2575e",
   "metadata": {},
   "source": [
    "The above matrix is teh parity check matric of the [7,4,3] Hamming code, the stabilizer group of Steane code has six generator, three of X-type and three of Z-type. First we will prepare the $0$ logical state using hadamard gate as well as CNOT gates matched with H. \n",
    "\n",
    "The next encoder is also taken from [the website](https://errorcorrectionzoo.org/c/steane)"
   ]
  },
  {
   "cell_type": "code",
   "execution_count": 22,
   "id": "d121a5b0",
   "metadata": {},
   "outputs": [
    {
     "data": {
      "text/html": [
       "<pre style=\"word-wrap: normal;white-space: pre;background: #fff0;line-height: 1.1;font-family: &quot;Courier New&quot;,Courier,monospace\">            ┌───┐                ░                      ░                     »\n",
       "7_qubits_0: ┤ H ├──■────■────■───░──────────────────────░─────────────────────»\n",
       "            └───┘  │    │    │   ░ ┌───┐                ░                     »\n",
       "7_qubits_1: ───────┼────┼────┼───░─┤ H ├──■────■────■───░─────────────────────»\n",
       "                   │    │    │   ░ └───┘  │    │    │   ░ ┌───┐               »\n",
       "7_qubits_2: ───────┼────┼────┼───░────────┼────┼────┼───░─┤ H ├──■────■────■──»\n",
       "                 ┌─┴─┐  │    │   ░      ┌─┴─┐  │    │   ░ └───┘┌─┴─┐  │    │  »\n",
       "7_qubits_3: ─────┤ X ├──┼────┼───░──────┤ X ├──┼────┼───░──────┤ X ├──┼────┼──»\n",
       "            ┌───┐└───┘  │    │   ░      └───┘┌─┴─┐  │   ░      └───┘┌─┴─┐  │  »\n",
       "7_qubits_4: ┤ X ├───────┼────┼───░───────────┤ X ├──┼───░───────────┤ X ├──┼──»\n",
       "            └─┬─┘┌───┐┌─┴─┐  │   ░           └───┘  │   ░           └───┘┌─┴─┐»\n",
       "7_qubits_5: ──┼──┤ X ├┤ X ├──┼───░──────────────────┼───░────────────────┤ X ├»\n",
       "              │  └─┬─┘└───┘┌─┴─┐ ░                ┌─┴─┐ ░                └───┘»\n",
       "7_qubits_6: ──■────■───────┤ X ├─░────────────────┤ X ├─░─────────────────────»\n",
       "                           └───┘ ░                └───┘ ░                     »\n",
       "«             ░ \n",
       "«7_qubits_0: ─░─\n",
       "«             ░ \n",
       "«7_qubits_1: ─░─\n",
       "«             ░ \n",
       "«7_qubits_2: ─░─\n",
       "«             ░ \n",
       "«7_qubits_3: ─░─\n",
       "«             ░ \n",
       "«7_qubits_4: ─░─\n",
       "«             ░ \n",
       "«7_qubits_5: ─░─\n",
       "«             ░ \n",
       "«7_qubits_6: ─░─\n",
       "«             ░ </pre>"
      ],
      "text/plain": [
       "            ┌───┐                ░                      ░                     »\n",
       "7_qubits_0: ┤ H ├──■────■────■───░──────────────────────░─────────────────────»\n",
       "            └───┘  │    │    │   ░ ┌───┐                ░                     »\n",
       "7_qubits_1: ───────┼────┼────┼───░─┤ H ├──■────■────■───░─────────────────────»\n",
       "                   │    │    │   ░ └───┘  │    │    │   ░ ┌───┐               »\n",
       "7_qubits_2: ───────┼────┼────┼───░────────┼────┼────┼───░─┤ H ├──■────■────■──»\n",
       "                 ┌─┴─┐  │    │   ░      ┌─┴─┐  │    │   ░ └───┘┌─┴─┐  │    │  »\n",
       "7_qubits_3: ─────┤ X ├──┼────┼───░──────┤ X ├──┼────┼───░──────┤ X ├──┼────┼──»\n",
       "            ┌───┐└───┘  │    │   ░      └───┘┌─┴─┐  │   ░      └───┘┌─┴─┐  │  »\n",
       "7_qubits_4: ┤ X ├───────┼────┼───░───────────┤ X ├──┼───░───────────┤ X ├──┼──»\n",
       "            └─┬─┘┌───┐┌─┴─┐  │   ░           └───┘  │   ░           └───┘┌─┴─┐»\n",
       "7_qubits_5: ──┼──┤ X ├┤ X ├──┼───░──────────────────┼───░────────────────┤ X ├»\n",
       "              │  └─┬─┘└───┘┌─┴─┐ ░                ┌─┴─┐ ░                └───┘»\n",
       "7_qubits_6: ──■────■───────┤ X ├─░────────────────┤ X ├─░─────────────────────»\n",
       "                           └───┘ ░                └───┘ ░                     »\n",
       "«             ░ \n",
       "«7_qubits_0: ─░─\n",
       "«             ░ \n",
       "«7_qubits_1: ─░─\n",
       "«             ░ \n",
       "«7_qubits_2: ─░─\n",
       "«             ░ \n",
       "«7_qubits_3: ─░─\n",
       "«             ░ \n",
       "«7_qubits_4: ─░─\n",
       "«             ░ \n",
       "«7_qubits_5: ─░─\n",
       "«             ░ \n",
       "«7_qubits_6: ─░─\n",
       "«             ░ "
      ]
     },
     "execution_count": 22,
     "metadata": {},
     "output_type": "execute_result"
    }
   ],
   "source": [
    "sevenqubits = QuantumRegister(size=7, name=\"7_qubits\")\n",
    "encoding = QuantumCircuit(sevenqubits)\n",
    "\n",
    "encoding.h(0)\n",
    "encoding.cx(sevenqubits[6], sevenqubits[4])\n",
    "encoding.cx(sevenqubits[6], sevenqubits[5])\n",
    "encoding.cx(sevenqubits[0], sevenqubits[3])\n",
    "encoding.cx(sevenqubits[0], sevenqubits[5])\n",
    "encoding.cx(sevenqubits[0], sevenqubits[6])\n",
    "encoding.barrier()\n",
    "encoding.h(1)\n",
    "encoding.cx(sevenqubits[1], sevenqubits[3])\n",
    "encoding.cx(sevenqubits[1], sevenqubits[4])\n",
    "encoding.cx(sevenqubits[1], sevenqubits[6])\n",
    "encoding.barrier()\n",
    "encoding.h(2)\n",
    "encoding.cx(sevenqubits[2], sevenqubits[3])\n",
    "encoding.cx(sevenqubits[2], sevenqubits[4])\n",
    "encoding.cx(sevenqubits[2], sevenqubits[5])\n",
    "encoding.barrier()\n",
    "\n",
    "decoding = encoding.inverse()\n",
    "\n",
    "encoding.draw()"
   ]
  }
 ],
 "metadata": {
  "kernelspec": {
   "display_name": "erdos_spring_2025",
   "language": "python",
   "name": "python3"
  },
  "language_info": {
   "codemirror_mode": {
    "name": "ipython",
    "version": 3
   },
   "file_extension": ".py",
   "mimetype": "text/x-python",
   "name": "python",
   "nbconvert_exporter": "python",
   "pygments_lexer": "ipython3",
   "version": "3.12.8"
  }
 },
 "nbformat": 4,
 "nbformat_minor": 5
}
